{
 "cells": [
  {
   "cell_type": "markdown",
   "metadata": {},
   "source": [
    "## How can we view the state of data in the neural network during a stage"
   ]
  },
  {
   "cell_type": "markdown",
   "metadata": {},
   "source": [
    "### Take the code in [SoftmaxLinerClassifier](http://deeplearning.thoughtworks.school/demo/SoftmaxLinearClassifier.html) as an example"
   ]
  },
  {
   "cell_type": "markdown",
   "metadata": {},
   "source": [
    "The original codes are as follows:\n",
    "```scala\n",
    "def softmax(implicit scores: INDArray @Symbolic): INDArray @Symbolic = {\n",
    "  val expScores = exp(scores)\n",
    "  expScores / expScores.sum(1)\n",
    "}\n",
    "```\n",
    "If we need to view the state after `exp(scores)`, we shall add a line of codes after `exp(scores)`, as follows:\n",
    "```scala\n",
    "def softmax(implicit scores: INDArray @Symbolic): INDArray @Symbolic = {\n",
    "  val expScores: INDArray @Symbolic  = exp(scores)\n",
    "    .withOutputDataHook{ data: INDArray => println(data) }\n",
    "  expScores / expScores.sum(1)\n",
    "}\n",
    "```\n",
    "\n",
    "We can omit the type and shorten it as follows (there may occur a warning, which can be neglected):\n",
    "```scala\n",
    "def softmax(implicit scores: INDArray @Symbolic): INDArray @Symbolic = {\n",
    "  val expScores = exp(scores)\n",
    "    .withOutputDataHook{ data => println(data) }\n",
    "  expScores / expScores.sum(1)\n",
    "}\n",
    "```\n",
    "\n",
    "The method signature of `withOutputDataHook` under `com.thoughtworks.deeplearning#DifferentiableAny`\n",
    "```scala, is as follows:\n",
    "def withOutputDataHook(hook: OutputData => Unit): Layer.Aux[Input, Batch.Aux[OutputData, OutputDelta]] = ???\n",
    "```\n",
    "\n",
    "When invoking this method, we can transfer in a customized method for putting out or performing other operation, and type breakpoints on this customized method to view the state after `exp(scores)`.\n",
    "In case the debug is not needed, the newly added line can be commented out, which will not affect codes at other locations."
   ]
  },
  {
   "cell_type": "markdown",
   "metadata": {},
   "source": [
    "[Complete code](https://github.com/izhangzhihao/deeplearning-tutorial/blob/master/src/main/scala/com/thoughtworks/deeplearning/tutorial/Debug.scala)"
   ]
  }
 ],
 "metadata": {
  "kernelspec": {
   "display_name": "Scala",
   "language": "scala",
   "name": "scala"
  },
  "language_info": {
   "codemirror_mode": "text/x-scala",
   "file_extension": ".scala",
   "mimetype": "text/x-scala",
   "name": "scala211",
   "nbconvert_exporter": "scala",
   "pygments_lexer": "scala",
   "version": "2.11.8"
  }
 },
 "nbformat": 4,
 "nbformat_minor": 0
}
