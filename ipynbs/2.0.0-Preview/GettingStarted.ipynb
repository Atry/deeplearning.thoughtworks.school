{
 "cells": [
  {
   "cell_type": "markdown",
   "metadata": {},
   "source": [
    "In this GettingStarted article, we will build a robot for answering questions in IQ test with the help of [DeepLearning.scala](http://deeplearning.thoughtworks.school/)."
   ]
  },
  {
   "cell_type": "markdown",
   "metadata": {},
   "source": [
    "## Background"
   ]
  },
  {
   "cell_type": "markdown",
   "metadata": {},
   "source": [
    "Suppose we are building a robot for answering questions in IQ test like this:\n",
    "\n",
    "> What is the next number in sequence:\n",
    ">> 3, 6, 9, ?\n",
    ">\n",
    "> The answer is 12."
   ]
  },
  {
   "cell_type": "markdown",
   "metadata": {},
   "source": [
    "We prepared some questions and corresponding answers as [INDArray](https://oss.sonatype.org/service/local/repositories/public/archive/org/nd4j/nd4j-api/0.8.0/nd4j-api-0.8.0-javadoc.jar/!/org/nd4j/linalg/api/ndarray/INDArray.html)s:"
   ]
  },
  {
   "cell_type": "code",
   "execution_count": 1,
   "metadata": {
    "collapsed": false,
    "scrolled": true
   },
   "outputs": [
    {
     "name": "stderr",
     "output_type": "stream",
     "text": [
      "SLF4J: Failed to load class \"org.slf4j.impl.StaticLoggerBinder\".\n",
      "SLF4J: Defaulting to no-operation (NOP) logger implementation\n",
      "SLF4J: See http://www.slf4j.org/codes.html#StaticLoggerBinder for further details.\n"
     ]
    },
    {
     "data": {
      "text/plain": [
       "\u001b[32mimport \u001b[39m\u001b[36m$ivy.$                     , $ivy.$                                    \n",
       "\u001b[39m\n",
       "\u001b[32mimport \u001b[39m\u001b[36morg.nd4j.linalg.api.ndarray.INDArray\n",
       "\n",
       "\u001b[39m\n",
       "\u001b[36mTrainingQuestions\u001b[39m: \u001b[32morg\u001b[39m.\u001b[32mnd4j\u001b[39m.\u001b[32mlinalg\u001b[39m.\u001b[32mapi\u001b[39m.\u001b[32mndarray\u001b[39m.\u001b[32mINDArray\u001b[39m = [[0.00, 1.00, 2.00],\n",
       " [4.00, 7.00, 10.00],\n",
       " [13.00, 15.00, 17.00]]\n",
       "\u001b[36mExpectedAnswers\u001b[39m: \u001b[32morg\u001b[39m.\u001b[32mnd4j\u001b[39m.\u001b[32mlinalg\u001b[39m.\u001b[32mapi\u001b[39m.\u001b[32mndarray\u001b[39m.\u001b[32mINDArray\u001b[39m = [3.00, 13.00, 19.00]"
      ]
     },
     "execution_count": 1,
     "metadata": {},
     "output_type": "execute_result"
    }
   ],
   "source": [
    "import $ivy.`org.nd4j::nd4s:0.8.0`, $ivy.`org.nd4j:nd4j-native-platform:0.8.0`\n",
    "import org.nd4j.linalg.api.ndarray.INDArray\n",
    "\n",
    "val TrainingQuestions: INDArray = {\n",
    "  import org.nd4s.Implicits._\n",
    "  Array(\n",
    "    Array(0, 1, 2),\n",
    "    Array(4, 7, 10),\n",
    "    Array(13, 15, 17)\n",
    "  ).toNDArray\n",
    "}\n",
    "\n",
    "val ExpectedAnswers: INDArray = {\n",
    "  import org.nd4s.Implicits._\n",
    "  Array(\n",
    "    Array(3),\n",
    "    Array(13),\n",
    "    Array(19)\n",
    "  ).toNDArray\n",
    "}\n"
   ]
  },
  {
   "cell_type": "markdown",
   "metadata": {},
   "source": [
    "These samples will be used to train the robot."
   ]
  },
  {
   "cell_type": "markdown",
   "metadata": {},
   "source": [
    "In the rest of this article, we will build the robot in the following steps:\n",
    "\n",
    "1. Install DeepLearning.scala, which is the framework that helps us build the robot.\n",
    "1. Setup configuration (also known as hyperparameters) of the robot.\n",
    "1. Build an untrained neural network of the robot.\n",
    "1. Train the neural network using the above samples.\n",
    "1. Test the robot seeing if the robot have been learnt how to answer these kind of questions."
   ]
  },
  {
   "cell_type": "markdown",
   "metadata": {},
   "source": [
    "## Install DeepLearning.scala"
   ]
  },
  {
   "cell_type": "markdown",
   "metadata": {},
   "source": [
    "DeepLearning.scala is hosted on Maven Central repository.\n",
    "\n",
    "You can use magic imports in [jupyter-scala](https://github.com/alexarchambault/jupyter-scala) or [Ammonite-REPL](http://www.lihaoyi.com/Ammonite/#Ammonite-REPL) to download DeepLearning.scala and its dependencies."
   ]
  },
  {
   "cell_type": "code",
   "execution_count": 2,
   "metadata": {
    "collapsed": false
   },
   "outputs": [
    {
     "data": {
      "text/plain": [
       "\u001b[32mimport \u001b[39m\u001b[36m$ivy.$                                                          \u001b[39m"
      ]
     },
     "execution_count": 2,
     "metadata": {},
     "output_type": "execute_result"
    }
   ],
   "source": [
    "import $ivy.`com.thoughtworks.deeplearning::plugins-builtins:2.0.0-RC1`"
   ]
  },
  {
   "cell_type": "markdown",
   "metadata": {},
   "source": [
    "If you use [sbt](http://www.scala-sbt.org), please add the following settings into your `build.sbt`:\n",
    "\n",
    "``` scala\n",
    "libraryDependencies += \"com.thoughtworks.deeplearning\" %% \"plugins-builtins\" % \"latest.release\"\n",
    "\n",
    "libraryDependencies += \"org.nd4j\" %% \"nd4j-native-platform\" % \"0.8.0\"\n",
    "\n",
    "fork := true\n",
    "\n",
    "scalaVersion := \"2.11.11\"\n",
    "```\n",
    "\n",
    "Note that this example must run on Scala 2.11.11 because [nd4s](http://nd4j.org/scala) does not support Scala 2.12. Make sure there is not a setting like `scalaVersion := \"2.12.x\"` in your `build.sbt`.\n",
    "\n",
    "See [Scaladex](https://index.scala-lang.org/thoughtworksinc/deeplearning.scala) to install DeepLearning.scala in other build tools!"
   ]
  },
  {
   "cell_type": "markdown",
   "metadata": {},
   "source": [
    "## Setup hyperparameters"
   ]
  },
  {
   "cell_type": "markdown",
   "metadata": {},
   "source": [
    "Hyperparameters are global configurations for a neural network.\n",
    "\n",
    "For this robot, we want to set its learning rate, which determines how fast the robot change its inner weights.\n",
    "\n",
    "In DeepLearning.scala, hyperparameters can be introduced by plugins, which is a small piece of code loaded from a URL."
   ]
  },
  {
   "cell_type": "code",
   "execution_count": 4,
   "metadata": {
    "collapsed": false
   },
   "outputs": [
    {
     "data": {
      "text/plain": [
       "\u001b[36mINDArrayLearningRatePluginUrl\u001b[39m: \u001b[32mString\u001b[39m = \u001b[32m\"https://gist.githubusercontent.com/Atry/1fb0608c655e3233e68b27ba99515f16/raw/27c7d00dd37785335b6acfe1f1c5614843bc6d9f/INDArrayLearningRate.sc\"\u001b[39m"
      ]
     },
     "execution_count": 4,
     "metadata": {},
     "output_type": "execute_result"
    }
   ],
   "source": [
    "val INDArrayLearningRatePluginUrl = \"https://gist.githubusercontent.com/Atry/1fb0608c655e3233e68b27ba99515f16/raw/27c7d00dd37785335b6acfe1f1c5614843bc6d9f/INDArrayLearningRate.sc\"\n",
    "interp.load(scala.io.Source.fromURL(new java.net.URL(INDArrayLearningRatePluginUrl)).mkString)"
   ]
  },
  {
   "cell_type": "markdown",
   "metadata": {},
   "source": [
    "By loading the hyperparameter plugin `INDArrayLearningRate`, we are able to create the context of neural network with `learningRate` parameter."
   ]
  },
  {
   "cell_type": "code",
   "execution_count": 5,
   "metadata": {
    "collapsed": false
   },
   "outputs": [
    {
     "data": {
      "text/plain": [
       "\u001b[32mimport \u001b[39m\u001b[36mcom.thoughtworks.deeplearning.plugins.Builtins\u001b[39m"
      ]
     },
     "execution_count": 5,
     "metadata": {},
     "output_type": "execute_result"
    }
   ],
   "source": [
    "import com.thoughtworks.deeplearning.plugins.Builtins"
   ]
  },
  {
   "cell_type": "markdown",
   "metadata": {},
   "source": [
    "All DeepLearning.scala built-in features are also provided by plugins. [Builtins](https://javadoc.io/page/com.thoughtworks.deeplearning/plugins-builtins_2.11/latest/com/thoughtworks/deeplearning/plugins/Builtins.html) is the plugin that contains all other DeepLearning.scala built-in plugins."
   ]
  },
  {
   "cell_type": "markdown",
   "metadata": {},
   "source": [
    "Now we create the context and setup learning rate to `0.001`."
   ]
  },
  {
   "cell_type": "code",
   "execution_count": 7,
   "metadata": {
    "collapsed": false,
    "scrolled": true
   },
   "outputs": [],
   "source": [
    "// `interp.load` is a workaround for https://github.com/lihaoyi/Ammonite/issues/649 and https://github.com/scala/bug/issues/10390\n",
    "interp.load(\"\"\"\n",
    "  import scala.concurrent.ExecutionContext.Implicits.global\n",
    "  import com.thoughtworks.feature.Factory\n",
    "  val hyperparameters = Factory[Builtins with INDArrayLearningRate].newInstance(learningRate = 0.001)\n",
    "\"\"\")"
   ]
  },
  {
   "cell_type": "markdown",
   "metadata": {},
   "source": [
    "See [Factory](https://javadoc.io/page/com.thoughtworks.feature/factory_2.11/latest/com/thoughtworks/feature/Factory.html) if you are wondering how those plugins are composed together."
   ]
  },
  {
   "cell_type": "markdown",
   "metadata": {},
   "source": [
    "The `Builtins` plugin contains some implicit values and views, which should be imported as following:"
   ]
  },
  {
   "cell_type": "code",
   "execution_count": 8,
   "metadata": {
    "collapsed": false
   },
   "outputs": [
    {
     "data": {
      "text/plain": [
       "\u001b[32mimport \u001b[39m\u001b[36mhyperparameters.implicits._\u001b[39m"
      ]
     },
     "execution_count": 8,
     "metadata": {},
     "output_type": "execute_result"
    }
   ],
   "source": [
    "import hyperparameters.implicits._"
   ]
  },
  {
   "cell_type": "markdown",
   "metadata": {},
   "source": [
    "## Build an untrained neural network of the robot"
   ]
  },
  {
   "cell_type": "markdown",
   "metadata": {},
   "source": [
    "In DeepLearning.scala, a neural network is simply a function that references some **weights**, which are mutable variables being changed automatically according to some goals during training.\n",
    "\n",
    "For example, given `x0`, `x1` and `x2` are the input sequence passed to the robot, we can build a function that returns the answer as `robotWeight0 * x0 + robotWeight1 * x1 + robotWeight2 * x2`, by adjusting those weightsduring training, the result should become close to the expected answer."
   ]
  },
  {
   "cell_type": "markdown",
   "metadata": {},
   "source": [
    "In DeepLearning.scala, weights can be created as following:"
   ]
  },
  {
   "cell_type": "code",
   "execution_count": 9,
   "metadata": {
    "collapsed": false,
    "scrolled": true
   },
   "outputs": [
    {
     "data": {
      "text/plain": [
       "defined \u001b[32mfunction\u001b[39m \u001b[36minitialValueOfRobotWeight\u001b[39m\n",
       "\u001b[32mimport \u001b[39m\u001b[36mhyperparameters.INDArrayWeight\n",
       "\u001b[39m\n",
       "\u001b[36mrobotWeight\u001b[39m: \u001b[32mObject\u001b[39m with \u001b[32mhyperparameters\u001b[39m.\u001b[32mINDArrayWeightApi\u001b[39m with \u001b[32mhyperparameters\u001b[39m.\u001b[32mWeightApi\u001b[39m with \u001b[32mhyperparameters\u001b[39m.\u001b[32mWeightApi\u001b[39m = $sess.cmd6Wrapper$Helper$Anonymous$macro$1$1$Anonymous$macro$77$1@4960ec1d"
      ]
     },
     "execution_count": 9,
     "metadata": {},
     "output_type": "execute_result"
    }
   ],
   "source": [
    "def initialValueOfRobotWeight: INDArray = {\n",
    "  import org.nd4j.linalg.factory.Nd4j\n",
    "  import org.nd4s.Implicits._\n",
    "  Nd4j.randn(3, 1)\n",
    "}\n",
    "\n",
    "import hyperparameters.INDArrayWeight\n",
    "val robotWeight = INDArrayWeight(initialValueOfRobotWeight)"
   ]
  },
  {
   "cell_type": "markdown",
   "metadata": {},
   "source": [
    "In the above code, `robotWeight` is a weight of n-dimensional array, say, [INDArrayWeight], initialized from random values. Therefore, the formula `robotWeight0 * x0 + robotWeight1 * x1 + robotWeight2 * x2` can be equivalent to a matrix multipication, written as a `dot` method call:\n",
    "\n",
    "[INDArrayWeight]: https://javadoc.io/page/com.thoughtworks.deeplearning/plugins-builtins_2.11/latest/com/thoughtworks/deeplearning/plugins/INDArrayWeights$INDArrayWeight.html"
   ]
  },
  {
   "cell_type": "code",
   "execution_count": 10,
   "metadata": {
    "collapsed": false
   },
   "outputs": [
    {
     "data": {
      "text/plain": [
       "\u001b[32mimport \u001b[39m\u001b[36mhyperparameters.INDArrayLayer\n",
       "\u001b[39m\n",
       "defined \u001b[32mfunction\u001b[39m \u001b[36miqTestRobot\u001b[39m"
      ]
     },
     "execution_count": 10,
     "metadata": {},
     "output_type": "execute_result"
    }
   ],
   "source": [
    "import hyperparameters.INDArrayLayer\n",
    "def iqTestRobot(questions: INDArray): INDArrayLayer = {\n",
    "  questions dot robotWeight\n",
    "}"
   ]
  },
  {
   "cell_type": "markdown",
   "metadata": {},
   "source": [
    "Note that the `dot` method is a differentiable function provided by DeepLearning.scala.\n",
    "You can find other [n-dimensional array differentiable methods in Scaladoc](https://javadoc.io/page/com.thoughtworks.deeplearning/plugins-builtins_2.11/latest/com/thoughtworks/deeplearning/plugins/RawINDArrayLayers$ImplicitsApi$INDArrayLayerOps.html)\n",
    "\n",
    "Unlike the functions in nd4s, all those differentiable functions accepts either an `INDArray`, `INDArrayWeight` \n",
    "or [INDArrayLayer], and returns one [Layer] of neural network, which can be composed into another differentiable function call.\n",
    "\n",
    "[INDArrayLayer]: https://javadoc.io/page/com.thoughtworks.deeplearning/plugins-builtins_2.11/latest/com/thoughtworks/deeplearning/plugins/RawINDArrayLayers$INDArrayLayer.html\n",
    "\n",
    "[Layer]: https://javadoc.io/page/com.thoughtworks.deeplearning/plugins-builtins_2.11/latest/com/thoughtworks/deeplearning/plugins/Layers$Layer.html"
   ]
  },
  {
   "cell_type": "markdown",
   "metadata": {},
   "source": [
    "## Training the network"
   ]
  },
  {
   "cell_type": "markdown",
   "metadata": {},
   "source": [
    "### Loss function"
   ]
  },
  {
   "cell_type": "markdown",
   "metadata": {},
   "source": [
    "In DeepLearning.scala, when we train a neural network, our goal should always be minimizing the return value.\n",
    "\n",
    "For example, if `iqTestRobot(TrainingQuestions).train` get called repeatedly,\n",
    "the neural network would try to minimize `input dot robotWeight`.\n",
    "`robotWeight` would become smaller and smaller in order to make `input dot robotWeight` smaller,\n",
    "and `iqTestRobot(TrainingQuestions).predict` would return an `INDArray` of small numbers.\n",
    "\n",
    "What if you expect `iqTestRobot(TrainingQuestions).predict` to return `ExpectedAnswers`?\n",
    "\n",
    "You can create another neural network that evaluates how far between the result of `myNeuralNetwork` and your expectation. The new neural network is usually called **loss function**.\n",
    "\n",
    "In this article we will use square loss as the loss function:"
   ]
  },
  {
   "cell_type": "code",
   "execution_count": 11,
   "metadata": {
    "collapsed": false,
    "scrolled": true
   },
   "outputs": [
    {
     "data": {
      "text/plain": [
       "\u001b[32mimport \u001b[39m\u001b[36mhyperparameters.DoubleLayer\n",
       "\u001b[39m\n",
       "defined \u001b[32mfunction\u001b[39m \u001b[36msquareLoss\u001b[39m"
      ]
     },
     "execution_count": 11,
     "metadata": {},
     "output_type": "execute_result"
    }
   ],
   "source": [
    "import hyperparameters.DoubleLayer\n",
    "def squareLoss(questions: INDArray, expectAnswer: INDArray): DoubleLayer = {\n",
    "  val difference = iqTestRobot(questions) - expectAnswer\n",
    "  (difference * difference).sum\n",
    "}"
   ]
  },
  {
   "cell_type": "markdown",
   "metadata": {},
   "source": [
    "When the `lossFunction` get trained continuously, its return value will be close to zero, and the result of  `myNeuralNetwork` must be close to the expected result at the same time.\n",
    "\n",
    "Note the `lossFunction` accepts a `questions` and `expectAnswer` as its parameter.\n",
    "The first parameter is the input data used to train the neural network, and the second array is the expected output.\n",
    "\n",
    "The `squareLoss` function itself is a neural network, internally using the layer returned by `iqTestRobot` method."
   ]
  },
  {
   "cell_type": "markdown",
   "metadata": {},
   "source": [
    "### Run the training task"
   ]
  },
  {
   "cell_type": "markdown",
   "metadata": {},
   "source": [
    "As I mentioned before, there is a [train] method for `DoubleLayer`. It is a [Task] that performs one iteration of training.\n",
    "\n",
    "Since we want to repeatedly train the neural network of the robot, we need to create another `Task` that performs many iterations of training.\n",
    "\n",
    "In this article, we use [ThoughtWorks Each] to build such a `Task`:\n",
    "\n",
    "[train]: https://javadoc.io/page/com.thoughtworks.deeplearning/plugins-builtins_2.11/latest/com/thoughtworks/deeplearning/DeepLearning$$Ops.html#train(implicitmonoid:spire.algebra.MultiplicativeMonoid[Ops.this.typeClassInstance.Delta]):scalaz.concurrent.Task[Ops.this.typeClassInstance.Data]\n",
    "\n",
    "[Task]: https://javadoc.io/page/org.scalaz/scalaz-concurrent_2.11/latest/scalaz/concurrent/Task.html\n",
    "\n",
    "[ThoughtWorks Each]: https://github.com/ThoughtWorksInc/each"
   ]
  },
  {
   "cell_type": "code",
   "execution_count": 12,
   "metadata": {
    "collapsed": false
   },
   "outputs": [
    {
     "data": {
      "text/plain": [
       "\u001b[32mimport \u001b[39m\u001b[36m$ivy.$                                  \n",
       "\u001b[39m\n",
       "\u001b[32mimport \u001b[39m\u001b[36m$plugin.$                                            \u001b[39m"
      ]
     },
     "execution_count": 12,
     "metadata": {},
     "output_type": "execute_result"
    }
   ],
   "source": [
    "import $ivy.`com.thoughtworks.each::each:3.3.1`\n",
    "import $plugin.$ivy.`org.scalamacros:paradise_2.11.11:2.1.0`"
   ]
  },
  {
   "cell_type": "code",
   "execution_count": 13,
   "metadata": {
    "collapsed": false,
    "scrolled": true
   },
   "outputs": [
    {
     "data": {
      "text/plain": [
       "\u001b[32mimport \u001b[39m\u001b[36mcom.thoughtworks.each.Monadic._\n",
       "\u001b[39m\n",
       "\u001b[32mimport \u001b[39m\u001b[36mscalaz.concurrent.Task\n",
       "\u001b[39m\n",
       "\u001b[32mimport \u001b[39m\u001b[36mscalaz.std.stream._\n",
       "\n",
       "\u001b[39m\n",
       "\u001b[36mTotalIterations\u001b[39m: \u001b[32mInt\u001b[39m = \u001b[32m500\u001b[39m\n",
       "defined \u001b[32mfunction\u001b[39m \u001b[36mtrain\u001b[39m"
      ]
     },
     "execution_count": 13,
     "metadata": {},
     "output_type": "execute_result"
    }
   ],
   "source": [
    "import com.thoughtworks.each.Monadic._\n",
    "import scalaz.concurrent.Task\n",
    "import scalaz.std.stream._\n",
    "\n",
    "val TotalIterations = 500\n",
    "\n",
    "@monadic[Task]\n",
    "def train: Task[Stream[Double]] = {\n",
    "  for (iteration <- (0 until TotalIterations).toStream) yield {\n",
    "    squareLoss(TrainingQuestions, ExpectedAnswers).train.each\n",
    "  }\n",
    "}"
   ]
  },
  {
   "cell_type": "markdown",
   "metadata": {},
   "source": [
    "Then we can run the task to train the robot."
   ]
  },
  {
   "cell_type": "code",
   "execution_count": 14,
   "metadata": {
    "collapsed": false
   },
   "outputs": [
    {
     "data": {
      "text/plain": [
       "\u001b[36mlossByTime\u001b[39m: \u001b[32mStream\u001b[39m[\u001b[32mDouble\u001b[39m] = \u001b[33mStream\u001b[39m(\n",
       "  \u001b[32m1682.25341796875\u001b[39m,\n",
       "  \u001b[32m800.6319580078125\u001b[39m,\n",
       "  \u001b[32m381.2174987792969\u001b[39m,\n",
       "  \u001b[32m181.6837158203125\u001b[39m,\n",
       "  \u001b[32m86.75123596191406\u001b[39m,\n",
       "  \u001b[32m41.57979965209961\u001b[39m,\n",
       "  \u001b[32m20.080934524536133\u001b[39m,\n",
       "  \u001b[32m9.843830108642578\u001b[39m,\n",
       "  \u001b[32m4.964475631713867\u001b[39m,\n",
       "  \u001b[32m2.6341910362243652\u001b[39m,\n",
       "  \u001b[32m1.5168309211730957\u001b[39m,\n",
       "\u001b[33m...\u001b[39m"
      ]
     },
     "execution_count": 14,
     "metadata": {},
     "output_type": "execute_result"
    }
   ],
   "source": [
    "val lossByTime: Stream[Double] = train.unsafePerformSync"
   ]
  },
  {
   "cell_type": "markdown",
   "metadata": {},
   "source": [
    "Then we create a plot to show how the loss changed during iterations."
   ]
  },
  {
   "cell_type": "code",
   "execution_count": 15,
   "metadata": {
    "collapsed": false
   },
   "outputs": [
    {
     "data": {
      "text/html": [
       "\n",
       "      <script type=\"text/javascript\">\n",
       "        require.config({\n",
       "  paths: {\n",
       "    d3: 'https://cdnjs.cloudflare.com/ajax/libs/d3/3.5.17/d3.min',\n",
       "    plotly: 'https://cdn.plot.ly/plotly-1.12.0.min'\n",
       "  },\n",
       "\n",
       "  shim: {\n",
       "    plotly: {\n",
       "      deps: ['d3', 'jquery'],\n",
       "      exports: 'plotly'\n",
       "    }\n",
       "  }\n",
       "});\n",
       "        \n",
       "\n",
       "        require(['plotly'], function(Plotly) {\n",
       "          window.Plotly = Plotly;\n",
       "        });\n",
       "      </script>\n",
       "    "
      ]
     },
     "metadata": {},
     "output_type": "display_data"
    },
    {
     "data": {
      "text/plain": [
       "\u001b[32mimport \u001b[39m\u001b[36m$ivy.$                                             \n",
       "\n",
       "\u001b[39m\n",
       "\u001b[32mimport \u001b[39m\u001b[36mplotly._\n",
       "\u001b[39m\n",
       "\u001b[32mimport \u001b[39m\u001b[36mplotly.element._\n",
       "\u001b[39m\n",
       "\u001b[32mimport \u001b[39m\u001b[36mplotly.layout._\n",
       "\u001b[39m\n",
       "\u001b[32mimport \u001b[39m\u001b[36mplotly.JupyterScala._\n",
       "\n",
       "\u001b[39m"
      ]
     },
     "execution_count": 15,
     "metadata": {},
     "output_type": "execute_result"
    }
   ],
   "source": [
    "import $ivy.`org.plotly-scala::plotly-jupyter-scala:0.3.2`\n",
    "\n",
    "import plotly._\n",
    "import plotly.element._\n",
    "import plotly.layout._\n",
    "import plotly.JupyterScala._\n",
    "\n",
    "plotly.JupyterScala.init()"
   ]
  },
  {
   "cell_type": "code",
   "execution_count": 16,
   "metadata": {
    "collapsed": false,
    "scrolled": false
   },
   "outputs": [
    {
     "data": {
      "text/html": [
       "<div class=\"chart\" id=\"plot-250106105\"></div>"
      ]
     },
     "metadata": {},
     "output_type": "display_data"
    },
    {
     "data": {
      "application/javascript": [
       "requirejs([\"plotly\"], function(Plotly) {\n",
       "  (function () {\n",
       "  var data0 = {\"type\":\"scatter\",\"x\":[0.0,1.0,2.0,3.0,4.0,5.0,6.0,7.0,8.0,9.0,10.0,11.0,12.0,13.0,14.0,15.0,16.0,17.0,18.0,19.0,20.0,21.0,22.0,23.0,24.0,25.0,26.0,27.0,28.0,29.0,30.0,31.0,32.0,33.0,34.0,35.0,36.0,37.0,38.0,39.0,40.0,41.0,42.0,43.0,44.0,45.0,46.0,47.0,48.0,49.0,50.0,51.0,52.0,53.0,54.0,55.0,56.0,57.0,58.0,59.0,60.0,61.0,62.0,63.0,64.0,65.0,66.0,67.0,68.0,69.0,70.0,71.0,72.0,73.0,74.0,75.0,76.0,77.0,78.0,79.0,80.0,81.0,82.0,83.0,84.0,85.0,86.0,87.0,88.0,89.0,90.0,91.0,92.0,93.0,94.0,95.0,96.0,97.0,98.0,99.0,100.0,101.0,102.0,103.0,104.0,105.0,106.0,107.0,108.0,109.0,110.0,111.0,112.0,113.0,114.0,115.0,116.0,117.0,118.0,119.0,120.0,121.0,122.0,123.0,124.0,125.0,126.0,127.0,128.0,129.0,130.0,131.0,132.0,133.0,134.0,135.0,136.0,137.0,138.0,139.0,140.0,141.0,142.0,143.0,144.0,145.0,146.0,147.0,148.0,149.0,150.0,151.0,152.0,153.0,154.0,155.0,156.0,157.0,158.0,159.0,160.0,161.0,162.0,163.0,164.0,165.0,166.0,167.0,168.0,169.0,170.0,171.0,172.0,173.0,174.0,175.0,176.0,177.0,178.0,179.0,180.0,181.0,182.0,183.0,184.0,185.0,186.0,187.0,188.0,189.0,190.0,191.0,192.0,193.0,194.0,195.0,196.0,197.0,198.0,199.0,200.0,201.0,202.0,203.0,204.0,205.0,206.0,207.0,208.0,209.0,210.0,211.0,212.0,213.0,214.0,215.0,216.0,217.0,218.0,219.0,220.0,221.0,222.0,223.0,224.0,225.0,226.0,227.0,228.0,229.0,230.0,231.0,232.0,233.0,234.0,235.0,236.0,237.0,238.0,239.0,240.0,241.0,242.0,243.0,244.0,245.0,246.0,247.0,248.0,249.0,250.0,251.0,252.0,253.0,254.0,255.0,256.0,257.0,258.0,259.0,260.0,261.0,262.0,263.0,264.0,265.0,266.0,267.0,268.0,269.0,270.0,271.0,272.0,273.0,274.0,275.0,276.0,277.0,278.0,279.0,280.0,281.0,282.0,283.0,284.0,285.0,286.0,287.0,288.0,289.0,290.0,291.0,292.0,293.0,294.0,295.0,296.0,297.0,298.0,299.0,300.0,301.0,302.0,303.0,304.0,305.0,306.0,307.0,308.0,309.0,310.0,311.0,312.0,313.0,314.0,315.0,316.0,317.0,318.0,319.0,320.0,321.0,322.0,323.0,324.0,325.0,326.0,327.0,328.0,329.0,330.0,331.0,332.0,333.0,334.0,335.0,336.0,337.0,338.0,339.0,340.0,341.0,342.0,343.0,344.0,345.0,346.0,347.0,348.0,349.0,350.0,351.0,352.0,353.0,354.0,355.0,356.0,357.0,358.0,359.0,360.0,361.0,362.0,363.0,364.0,365.0,366.0,367.0,368.0,369.0,370.0,371.0,372.0,373.0,374.0,375.0,376.0,377.0,378.0,379.0,380.0,381.0,382.0,383.0,384.0,385.0,386.0,387.0,388.0,389.0,390.0,391.0,392.0,393.0,394.0,395.0,396.0,397.0,398.0,399.0,400.0,401.0,402.0,403.0,404.0,405.0,406.0,407.0,408.0,409.0,410.0,411.0,412.0,413.0,414.0,415.0,416.0,417.0,418.0,419.0,420.0,421.0,422.0,423.0,424.0,425.0,426.0,427.0,428.0,429.0,430.0,431.0,432.0,433.0,434.0,435.0,436.0,437.0,438.0,439.0,440.0,441.0,442.0,443.0,444.0,445.0,446.0,447.0,448.0,449.0,450.0,451.0,452.0,453.0,454.0,455.0,456.0,457.0,458.0,459.0,460.0,461.0,462.0,463.0,464.0,465.0,466.0,467.0,468.0,469.0,470.0,471.0,472.0,473.0,474.0,475.0,476.0,477.0,478.0,479.0,480.0,481.0,482.0,483.0,484.0,485.0,486.0,487.0,488.0,489.0,490.0,491.0,492.0,493.0,494.0,495.0,496.0,497.0,498.0,499.0],\"y\":[1682.25341796875,800.6319580078125,381.2174987792969,181.6837158203125,86.75123596191406,41.57979965209961,20.080934524536133,9.843830108642578,4.964475631713867,2.6341910362243652,1.5168309211730957,0.9767634868621826,0.7116010785102844,0.5774901509284973,0.5059733390808105,0.46448442339897156,0.4375208616256714,0.4177028238773346,0.4015067517757416,0.38725554943084717,0.374137818813324,0.36176538467407227,0.34994491934776306,0.3385789394378662,0.3276149332523346,0.31702283024787903,0.3067789077758789,0.2968703508377075,0.28728216886520386,0.2780056893825531,0.2690292298793793,0.2603415250778198,0.25193506479263306,0.24380075931549072,0.23592762649059296,0.22831077873706818,0.22093865275382996,0.21380358934402466,0.20690098404884338,0.20021924376487732,0.1937558352947235,0.18749935925006866,0.18144501745700836,0.17558614909648895,0.16991576552391052,0.16442930698394775,0.1591203212738037,0.15398238599300385,0.14900988340377808,0.1441992074251175,0.13954263925552368,0.13503696024417877,0.13067573308944702,0.12645666301250458,0.1223742663860321,0.11842302978038788,0.11459890753030777,0.11089826375246048,0.10731726884841919,0.10385200381278992,0.10049936175346375,0.09725358337163925,0.09411381930112839,0.0910746306180954,0.08813369274139404,0.0852886512875557,0.08253432810306549,0.07986876368522644,0.07729066908359528,0.07479468733072281,0.07237999141216278,0.0700424537062645,0.06778093427419662,0.06559263169765472,0.06347454339265823,0.06142482906579971,0.05944132059812546,0.05752202495932579,0.055665213614702225,0.05386747792363167,0.052128080278635025,0.050444770604372025,0.0488157756626606,0.04724005609750748,0.04571454972028732,0.04423828423023224,0.04280974343419075,0.04142727330327034,0.040089815855026245,0.038794875144958496,0.037542346864938736,0.0363302119076252,0.03515738993883133,0.03402215242385864,0.03292363882064819,0.03186044469475746,0.03083169460296631,0.02983616292476654,0.028873272240161896,0.027940362691879272,0.027038490399718285,0.026165062561631203,0.025320399552583694,0.02450244501233101,0.023711789399385452,0.022946057841181755,0.022204812616109848,0.021488159894943237,0.02079431153833866,0.020122483372688293,0.019473152235150337,0.018844082951545715,0.018235785886645317,0.01764710433781147,0.017077121883630753,0.016525741666555405,0.015992339700460434,0.015475821681320667,0.01497598085552454,0.014492381364107132,0.014024609699845314,0.013571670278906822,0.013133610598742962,0.01270964927971363,0.012299247086048126,0.01190190576016903,0.011517608538269997,0.011145733296871185,0.010785909369587898,0.01043736469000578,0.010100796818733215,0.009774589911103249,0.009458793327212334,0.009153509512543678,0.008857950568199158,0.008571743965148926,0.008295245468616486,0.008027330972254276,0.007768215611577034,0.0075171031057834625,0.007274613715708256,0.007039758376777172,0.006812292151153088,0.006592318415641785,0.006379490718245506,0.0061735352501273155,0.005974116735160351,0.005781220272183418,0.005594419315457344,0.005413929000496864,0.005238999146968126,0.005070067476481199,0.004906168673187494,0.00474775955080986,0.004594583995640278,0.004446252714842558,0.00430250121280551,0.004163473378866911,0.004029072821140289,0.003899174742400646,0.0037731770426034927,0.0036515239626169205,0.0035334057174623013,0.003419423708692193,0.003309055231511593,0.0032021780498325825,0.003098719287663698,0.0029985893052071333,0.002901787403970957,0.0028080721385776997,0.0027174269780516624,0.0026296996511518955,0.0025448123924434185,0.0024626192171126604,0.002383045619353652,0.002306190086528659,0.002231677295640111,0.002159730065613985,0.002089868066832423,0.002022430533543229,0.00195712735876441,0.0018939978908747435,0.001832802314311266,0.0017736240988597274,0.00171626266092062,0.0016608290607109666,0.0016073286533355713,0.0015554557321593165,0.0015051637310534716,0.0014566525351256132,0.0014095448423177004,0.0013641213299706578,0.0013200214598327875,0.0012773649068549275,0.0012360746040940285,0.0011962656863033772,0.0011575788957998157,0.001120253000408411,0.0010840537725016475,0.0010491344146430492,0.0010151304304599762,9.823576547205448E-4,9.506946662440896E-4,9.200057829730213E-4,8.902662084437907E-4,8.615542319603264E-4,8.336998871527612E-4,8.067642920650542E-4,7.807498914189637E-4,7.555604679509997E-4,7.311847293749452E-4,7.075616158545017E-4,6.847191252745688E-4,6.626182585023344E-4,6.411813665181398E-4,6.205063546076417E-4,6.004448514431715E-4,5.811030860058963E-4,5.623175529763103E-4,5.440960521809757E-4,5.265519139356911E-4,5.09583274833858E-4,4.930768627673388E-4,4.771858802996576E-4,4.6180569916032255E-4,4.46873513283208E-4,4.324197652749717E-4,4.184369172435254E-4,4.0496670408174396E-4,3.919119480997324E-4,3.7924671778455377E-4,3.670389123726636E-4,3.5514472983777523E-4,3.4371064975857735E-4,3.3260800410062075E-4,3.218530328013003E-4,3.114680584985763E-4,3.0138541478663683E-4,2.9168438049964607E-4,2.822729293256998E-4,2.731403219513595E-4,2.6431086007505655E-4,2.557438565418124E-4,2.4753829347901046E-4,2.3951592447701842E-4,2.317809994565323E-4,2.242896443931386E-4,2.1708277927245945E-4,2.1005328744649887E-4,2.032866614172235E-4,1.9671917834784836E-4,1.9033947319258004E-4,1.8422781431581825E-4,1.7827680858317763E-4,1.7247414507437497E-4,1.6694837540853769E-4,1.6152625903487206E-4,1.5630087000317872E-4,1.5125569188967347E-4,1.4639941218774766E-4,1.4166912296786904E-4,1.3708724873140454E-4,1.3268107431940734E-4,1.28410363686271E-4,1.2425746535882354E-4,1.2024999159621075E-4,1.1633442773018032E-4,1.125912313000299E-4,1.0895750892814249E-4,1.0543439566390589E-4,1.0203095735050738E-4,9.8716642241925E-5,9.554594726068899E-5,9.246593981515616E-5,8.947175228968263E-5,8.657839498482645E-5,8.379638893529773E-5,8.109572081593797E-5,7.847575761843473E-5,7.591507164761424E-5,7.348590588662773E-5,7.111627201084048E-5,6.881696754135191E-5,6.658543861703947E-5,6.444663449656218E-5,6.237422348931432E-5,6.034059333615005E-5,5.8405767049407586E-5,5.6517947086831555E-5,5.469016468850896E-5,5.2929535740986466E-5,5.1202230679336935E-5,4.955304757459089E-5,4.796839493792504E-5,4.641162377083674E-5,4.49055660283193E-5,4.34596513514407E-5,4.205112418276258E-5,4.070036447956227E-5,3.938218651455827E-5,3.811032365774736E-5,3.688165816129185E-5,3.569469117792323E-5,3.45483458659146E-5,3.342366107972339E-5,3.2337346056010574E-5,3.1290641345549375E-5,3.0295983378891833E-5,2.930608025053516E-5,2.835703890013974E-5,2.744488483585883E-5,2.6563951905700378E-5,2.5709105102578178E-5,2.4861765268724412E-5,2.4077105990727432E-5,2.330058123334311E-5,2.253674938401673E-5,2.182458592869807E-5,2.1104471670696512E-5,2.044083157670684E-5,1.9774812244577333E-5,1.9135894035571255E-5,1.852970126492437E-5,1.7920625396072865E-5,1.7343243598588742E-5,1.677581894909963E-5,1.623915886739269E-5,1.5717867427156307E-5,1.5213352526188828E-5,1.47125574585516E-5,1.4232122339308262E-5,1.3779026630800217E-5,1.3334439245227259E-5,1.290917134610936E-5,1.2492379028117284E-5,1.2088472431059927E-5,1.1697813533828594E-5,1.1314426956232637E-5,1.095366769732209E-5,1.0599987945170142E-5,1.0252726497128606E-5,9.92730292637134E-6,9.598108590580523E-6,9.293753464589827E-6,8.991551112558227E-6,8.702745617483743E-6,8.430251000390854E-6,8.14749364508316E-6,7.885134436946828E-6,7.635651854798198E-6,7.391206963802688E-6,7.14626548870001E-6,6.918676263012458E-6,6.696234322589589E-6,6.47284286969807E-6,6.269897312449757E-6,6.067742106097285E-6,5.87235717830481E-6,5.680626600224059E-6,5.500099177879747E-6,5.319075626175618E-6,5.148236596141942E-6,4.985494342690799E-6,4.8208312364295125E-6,4.667144821723923E-6,4.515558430284727E-6,4.370369424577802E-6,4.2250121623510495E-6,4.094930773135275E-6,3.964175448345486E-6,3.8296911952784285E-6,3.7066201912239194E-6,3.5889843275072053E-6,3.473825017863419E-6,3.360432174304151E-6,3.2525163078389596E-6,3.146478320559254E-6,3.0477249310933985E-6,2.9483146590791875E-6,2.855797220036038E-6,2.760122924883035E-6,2.668694833118934E-6,2.583914465503767E-6,2.500896698620636E-6,2.4244639007520163E-6,2.3419888748321682E-6,2.2657970930595184E-6,2.193545242334949E-6,2.1203879896347644E-6,2.055249296972761E-6,1.9871895347023383E-6,1.9220351532567292E-6,1.8606997400638647E-6,1.8023695247393334E-6,1.7455517991038505E-6,1.6875455912668258E-6,1.6343310562660918E-6,1.578371666255407E-6,1.5294681361410767E-6,1.4795296010561287E-6,1.432185854355339E-6,1.3842930002283538E-6,1.3403778211795725E-6,1.2977527603652561E-6,1.2593247902259463E-6,1.2164985037088627E-6,1.1757495030906284E-6,1.139698952101753E-6,1.1006877684849314E-6,1.0657477105269209E-6,1.0313742677681148E-6,1.0008598110289313E-6,9.664001936471323E-7,9.356126611237414E-7,9.050791049958207E-7,8.756414899835363E-7,8.463450740237022E-7,8.192985205823788E-7,7.924572855699807E-7,7.704884410486557E-7,7.435721727233613E-7,7.181661771937797E-7,6.94768687026226E-7,6.732416295562871E-7,6.51947857477353E-7,6.310983735602349E-7,6.092752755648689E-7,5.904626618757902E-7,5.720403919440287E-7,5.525735105038621E-7,5.336623871698976E-7,5.173696990823373E-7,5.014137514081085E-7,4.855297106587386E-7,4.691401045420207E-7,4.5490742195397615E-7,4.389705736684846E-7,4.243652824698074E-7,4.121944243706821E-7,3.981249960816058E-7,3.852983354590833E-7,3.73752300220076E-7,3.612906311900588E-7,3.492723976705747E-7,3.3922538023034576E-7,3.2764364732429385E-7,3.169980686834606E-7,3.0582219778807485E-7,2.964115992654115E-7,2.8646013561228756E-7,2.7759324439102784E-7,2.687743858587055E-7,2.594024408608675E-7,2.517774646548787E-7,2.426213541184552E-7,2.3532834347861353E-7,2.2807057575846557E-7,2.19527464651037E-7,2.1400046534836292E-7,2.0651805243687704E-7,1.9983781385235488E-7,1.9326853362144902E-7,1.8750506569631398E-7,1.8114315025741234E-7,1.7556521925143898E-7,1.7007641872623935E-7,1.6350645637430716E-7,1.5894170246610884E-7,1.538233505016251E-7,1.4937927517166827E-7,1.4443958207266405E-7,1.38884388434235E-7,1.3535515108742402E-7,1.3070734894427005E-7,1.2601981325133238E-7,1.221217189595336E-7,1.1821390444310964E-7,1.149697368418856E-7,1.1124143384222407E-7,1.0700478014769033E-7,1.0343865142203867E-7,1.0039843800768722E-7,9.739801498653833E-8,9.398041811436997E-8,9.157247404800728E-8,8.739385748413042E-8,8.463081258014427E-8,8.201118362194393E-8,7.973812898853794E-8,7.76346951170126E-8,7.461335371772293E-8,7.168296178861056E-8,6.966189403101453E-8,6.767004379071295E-8,6.530996188303106E-8,6.338200364552904E-8,6.108672323534847E-8,5.9253579820506275E-8,5.743663678003941E-8,5.524475454876665E-8]};\n",
       "\n",
       "  var data = [data0];\n",
       "  var layout = {\"title\":\"loss by time\"};\n",
       "\n",
       "  Plotly.plot('plot-250106105', data, layout);\n",
       "})();\n",
       "});\n",
       "      "
      ]
     },
     "metadata": {},
     "output_type": "display_data"
    },
    {
     "data": {
      "text/plain": [
       "\u001b[36mres15\u001b[39m: \u001b[32mString\u001b[39m = \u001b[32m\"plot-250106105\"\u001b[39m"
      ]
     },
     "execution_count": 16,
     "metadata": {},
     "output_type": "execute_result"
    }
   ],
   "source": [
    "Scatter(lossByTime.indices, lossByTime).plot(title = \"loss by time\")"
   ]
  },
  {
   "cell_type": "markdown",
   "metadata": {},
   "source": [
    "After those iterations, the loss should close to zero."
   ]
  },
  {
   "cell_type": "markdown",
   "metadata": {},
   "source": [
    "## Test the trained robot"
   ]
  },
  {
   "cell_type": "code",
   "execution_count": 20,
   "metadata": {
    "collapsed": false
   },
   "outputs": [
    {
     "data": {
      "text/plain": [
       "\u001b[36mTestQuestions\u001b[39m: \u001b[32mINDArray\u001b[39m = [1.30, 1.60, 1.90]"
      ]
     },
     "execution_count": 20,
     "metadata": {},
     "output_type": "execute_result"
    }
   ],
   "source": [
    "val TestQuestions: INDArray = {\n",
    "  import org.nd4s.Implicits._\n",
    "  Array(Array(1.3, 1.6, 1.9)).toNDArray\n",
    "}"
   ]
  },
  {
   "cell_type": "code",
   "execution_count": 21,
   "metadata": {
    "collapsed": false,
    "scrolled": true
   },
   "outputs": [
    {
     "data": {
      "text/plain": [
       "\u001b[36mres20\u001b[39m: \u001b[32mINDArray\u001b[39m = 2.20"
      ]
     },
     "execution_count": 21,
     "metadata": {},
     "output_type": "execute_result"
    }
   ],
   "source": [
    "iqTestRobot(TestQuestions).predict.unsafePerformSync"
   ]
  },
  {
   "cell_type": "markdown",
   "metadata": {},
   "source": [
    "The result should close to `12`."
   ]
  },
  {
   "cell_type": "markdown",
   "metadata": {},
   "source": [
    "You may also see the value of weights in the trained neural network:"
   ]
  },
  {
   "cell_type": "code",
   "execution_count": 19,
   "metadata": {
    "collapsed": false
   },
   "outputs": [
    {
     "data": {
      "text/plain": [
       "\u001b[36mweightData\u001b[39m: \u001b[32mINDArray\u001b[39m = [-1.20, 1.40, 0.80]"
      ]
     },
     "execution_count": 19,
     "metadata": {},
     "output_type": "execute_result"
    }
   ],
   "source": [
    "val weightData: INDArray = robotWeight.data"
   ]
  },
  {
   "cell_type": "markdown",
   "metadata": {},
   "source": [
    "## Conclusion"
   ]
  },
  {
   "cell_type": "markdown",
   "metadata": {},
   "source": [
    "In this article, we have created a IQ test robot with the help of DeepLearning.scala.\n",
    "\n",
    "The model of robot is linear regression with a square loss, which consists of some `INDArryWeight`s and `INDArrayLayer`s.\n",
    "\n",
    "After many iterations of `train`ing, the robot finally learnt the pattern of arithmetic progression."
   ]
  }
 ],
 "metadata": {
  "kernelspec": {
   "display_name": "Scala",
   "language": "scala",
   "name": "scala"
  },
  "language_info": {
   "codemirror_mode": "text/x-scala",
   "file_extension": ".scala",
   "mimetype": "text/x-scala",
   "name": "scala211",
   "nbconvert_exporter": "script",
   "pygments_lexer": "scala",
   "version": "2.11.11"
  }
 },
 "nbformat": 4,
 "nbformat_minor": 2
}
