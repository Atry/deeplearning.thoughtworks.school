{
 "cells": [
  {
   "cell_type": "markdown",
   "metadata": {},
   "source": [
    "In this GettingStarted article, we will build a robot for answering questions in IQ test with the help of [DeepLearning.scala](http://deeplearning.thoughtworks.school/)."
   ]
  },
  {
   "cell_type": "markdown",
   "metadata": {},
   "source": [
    "## Background"
   ]
  },
  {
   "cell_type": "markdown",
   "metadata": {},
   "source": [
    "Suppose we are building a robot for answering questions in IQ test like this:\n",
    "\n",
    "> What is the next number in sequence:\n",
    ">> 3, 6, 9, ?\n",
    ">\n",
    "> The answer is 12."
   ]
  },
  {
   "cell_type": "markdown",
   "metadata": {},
   "source": [
    "We prepared some questions and corresponding answers as [INDArray](https://oss.sonatype.org/service/local/repositories/public/archive/org/nd4j/nd4j-api/0.8.0/nd4j-api-0.8.0-javadoc.jar/!/org/nd4j/linalg/api/ndarray/INDArray.html)s:"
   ]
  },
  {
   "cell_type": "code",
   "execution_count": 1,
   "metadata": {
    "scrolled": true
   },
   "outputs": [
    {
     "name": "stderr",
     "output_type": "stream",
     "text": [
      "SLF4J: Failed to load class \"org.slf4j.impl.StaticLoggerBinder\".\n",
      "SLF4J: Defaulting to no-operation (NOP) logger implementation\n",
      "SLF4J: See http://www.slf4j.org/codes.html#StaticLoggerBinder for further details.\n"
     ]
    },
    {
     "data": {
      "text/plain": [
       "\u001b[32mimport \u001b[39m\u001b[36m$ivy.$                     \n",
       "\u001b[39m\n",
       "\u001b[32mimport \u001b[39m\u001b[36m$ivy.$                                    \n",
       "\u001b[39m\n",
       "\u001b[32mimport \u001b[39m\u001b[36morg.nd4j.linalg.api.ndarray.INDArray\n",
       "\n",
       "\u001b[39m\n",
       "\u001b[36mTrainingQuestions\u001b[39m: \u001b[32morg\u001b[39m.\u001b[32mnd4j\u001b[39m.\u001b[32mlinalg\u001b[39m.\u001b[32mapi\u001b[39m.\u001b[32mndarray\u001b[39m.\u001b[32mINDArray\u001b[39m = [[0.00, 1.00, 2.00],\n",
       " [4.00, 7.00, 10.00],\n",
       " [13.00, 15.00, 17.00]]\n",
       "\u001b[36mExpectedAnswers\u001b[39m: \u001b[32morg\u001b[39m.\u001b[32mnd4j\u001b[39m.\u001b[32mlinalg\u001b[39m.\u001b[32mapi\u001b[39m.\u001b[32mndarray\u001b[39m.\u001b[32mINDArray\u001b[39m = [3.00, 13.00, 19.00]"
      ]
     },
     "execution_count": 1,
     "metadata": {},
     "output_type": "execute_result"
    }
   ],
   "source": [
    "import $ivy.`org.nd4j::nd4s:0.8.0`\n",
    "import $ivy.`org.nd4j:nd4j-native-platform:0.8.0`\n",
    "import org.nd4j.linalg.api.ndarray.INDArray\n",
    "\n",
    "val TrainingQuestions: INDArray = {\n",
    "  import org.nd4s.Implicits._\n",
    "  Array(\n",
    "    Array(0, 1, 2),\n",
    "    Array(4, 7, 10),\n",
    "    Array(13, 15, 17)\n",
    "  ).toNDArray\n",
    "}\n",
    "\n",
    "val ExpectedAnswers: INDArray = {\n",
    "  import org.nd4s.Implicits._\n",
    "  Array(\n",
    "    Array(3),\n",
    "    Array(13),\n",
    "    Array(19)\n",
    "  ).toNDArray\n",
    "}\n"
   ]
  },
  {
   "cell_type": "markdown",
   "metadata": {},
   "source": [
    "These samples will be used to train the robot."
   ]
  },
  {
   "cell_type": "markdown",
   "metadata": {},
   "source": [
    "In the rest of this article, we will build the robot in the following steps:\n",
    "\n",
    "1. Install DeepLearning.scala, which is the framework that helps us build the robot.\n",
    "1. Setup configuration (also known as hyperparameters) of the robot.\n",
    "1. Build an untrained neural network of the robot.\n",
    "1. Train the neural network using the above samples.\n",
    "1. Test the robot seeing if the robot have been learnt how to answer these kind of questions."
   ]
  },
  {
   "cell_type": "markdown",
   "metadata": {},
   "source": [
    "## Install DeepLearning.scala"
   ]
  },
  {
   "cell_type": "markdown",
   "metadata": {},
   "source": [
    "DeepLearning.scala is hosted on Maven Central repository.\n",
    "\n",
    "You can use magic imports in [jupyter-scala](https://github.com/alexarchambault/jupyter-scala) or [Ammonite-REPL](http://www.lihaoyi.com/Ammonite/#Ammonite-REPL) to download DeepLearning.scala and its dependencies."
   ]
  },
  {
   "cell_type": "code",
   "execution_count": 2,
   "metadata": {},
   "outputs": [
    {
     "data": {
      "text/plain": [
       "\u001b[32mimport \u001b[39m\u001b[36m$ivy.$                                                          \u001b[39m"
      ]
     },
     "execution_count": 2,
     "metadata": {},
     "output_type": "execute_result"
    }
   ],
   "source": [
    "import $ivy.`com.thoughtworks.deeplearning::plugins-builtins:2.0.0-RC1`"
   ]
  },
  {
   "cell_type": "markdown",
   "metadata": {},
   "source": [
    "If you use [sbt](http://www.scala-sbt.org), please add the following settings into your `build.sbt`:\n",
    "\n",
    "``` scala\n",
    "libraryDependencies += \"com.thoughtworks.deeplearning\" %% \"plugins-builtins\" % \"latest.release\"\n",
    "\n",
    "libraryDependencies += \"org.nd4j\" %% \"nd4j-native-platform\" % \"0.8.0\"\n",
    "\n",
    "fork := true\n",
    "\n",
    "scalaVersion := \"2.11.11\"\n",
    "```\n",
    "\n",
    "Note that this example must run on Scala 2.11.11 because [nd4s](http://nd4j.org/scala) does not support Scala 2.12. Make sure there is not a setting like `scalaVersion := \"2.12.x\"` in your `build.sbt`.\n",
    "\n",
    "See [Scaladex](https://index.scala-lang.org/thoughtworksinc/deeplearning.scala) to install DeepLearning.scala in other build tools!"
   ]
  },
  {
   "cell_type": "markdown",
   "metadata": {},
   "source": [
    "## Setup hyperparameters"
   ]
  },
  {
   "cell_type": "markdown",
   "metadata": {},
   "source": [
    "Hyperparameters are global configurations for a neural network.\n",
    "\n",
    "For this robot, we want to set its learning rate, which determines how fast the robot change its inner weights.\n",
    "\n",
    "In DeepLearning.scala, hyperparameters can be introduced by plugins, which is a small piece of code loaded from a URL."
   ]
  },
  {
   "cell_type": "code",
   "execution_count": 4,
   "metadata": {},
   "outputs": [
    {
     "data": {
      "text/plain": [
       "\u001b[36mINDArrayLearningRatePluginUrl\u001b[39m: \u001b[32mString\u001b[39m = \u001b[32m\"https://gist.githubusercontent.com/Atry/1fb0608c655e3233e68b27ba99515f16/raw/27c7d00dd37785335b6acfe1f1c5614843bc6d9f/INDArrayLearningRate.sc\"\u001b[39m"
      ]
     },
     "execution_count": 4,
     "metadata": {},
     "output_type": "execute_result"
    }
   ],
   "source": [
    "val INDArrayLearningRatePluginUrl = \"https://gist.githubusercontent.com/Atry/1fb0608c655e3233e68b27ba99515f16/raw/27c7d00dd37785335b6acfe1f1c5614843bc6d9f/INDArrayLearningRate.sc\"\n",
    "interp.load(scala.io.Source.fromURL(new java.net.URL(INDArrayLearningRatePluginUrl)).mkString)"
   ]
  },
  {
   "cell_type": "markdown",
   "metadata": {},
   "source": [
    "By loading the hyperparameter plugin `INDArrayLearningRate`, we are able to create the context of neural network with `learningRate` parameter."
   ]
  },
  {
   "cell_type": "code",
   "execution_count": 5,
   "metadata": {},
   "outputs": [
    {
     "data": {
      "text/plain": [
       "\u001b[32mimport \u001b[39m\u001b[36mcom.thoughtworks.deeplearning.plugins.Builtins\u001b[39m"
      ]
     },
     "execution_count": 5,
     "metadata": {},
     "output_type": "execute_result"
    }
   ],
   "source": [
    "import com.thoughtworks.deeplearning.plugins.Builtins"
   ]
  },
  {
   "cell_type": "markdown",
   "metadata": {},
   "source": [
    "All DeepLearning.scala built-in features are also provided by plugins. [Builtins](https://javadoc.io/page/com.thoughtworks.deeplearning/plugins-builtins_2.11/latest/com/thoughtworks/deeplearning/plugins/Builtins.html) is the plugin that contains all other DeepLearning.scala built-in plugins."
   ]
  },
  {
   "cell_type": "markdown",
   "metadata": {},
   "source": [
    "Now we create the context and setup learning rate to `0.001`."
   ]
  },
  {
   "cell_type": "code",
   "execution_count": 7,
   "metadata": {
    "scrolled": true
   },
   "outputs": [],
   "source": [
    "// `interp.load` is a workaround for https://github.com/lihaoyi/Ammonite/issues/649 and https://github.com/scala/bug/issues/10390\n",
    "interp.load(\"\"\"\n",
    "  import scala.concurrent.ExecutionContext.Implicits.global\n",
    "  import com.thoughtworks.feature.Factory\n",
    "  val hyperparameters = Factory[Builtins with INDArrayLearningRate].newInstance(learningRate = 0.001)\n",
    "\"\"\")"
   ]
  },
  {
   "cell_type": "markdown",
   "metadata": {},
   "source": [
    "See [Factory](https://javadoc.io/page/com.thoughtworks.feature/factory_2.11/latest/com/thoughtworks/feature/Factory.html) if you are wondering how those plugins are composed together."
   ]
  },
  {
   "cell_type": "markdown",
   "metadata": {},
   "source": [
    "The `Builtins` plugin contains some implicit values and views, which should be imported as following:"
   ]
  },
  {
   "cell_type": "code",
   "execution_count": 8,
   "metadata": {},
   "outputs": [
    {
     "data": {
      "text/plain": [
       "\u001b[32mimport \u001b[39m\u001b[36mhyperparameters.implicits._\u001b[39m"
      ]
     },
     "execution_count": 8,
     "metadata": {},
     "output_type": "execute_result"
    }
   ],
   "source": [
    "import hyperparameters.implicits._"
   ]
  },
  {
   "cell_type": "markdown",
   "metadata": {},
   "source": [
    "## Build an untrained neural network of the robot"
   ]
  },
  {
   "cell_type": "markdown",
   "metadata": {},
   "source": [
    "In DeepLearning.scala, a neural network is simply a function that references some **weights**, which are mutable variables being changed automatically according to some goals during training.\n",
    "\n",
    "For example, given `x0`, `x1` and `x2` are the input sequence passed to the robot, we can build a function that returns the answer as `robotWeight0 * x0 + robotWeight1 * x1 + robotWeight2 * x2`, by adjusting those weights during training, the result should become close to the expected answer."
   ]
  },
  {
   "cell_type": "markdown",
   "metadata": {},
   "source": [
    "In DeepLearning.scala, weights can be created as following:"
   ]
  },
  {
   "cell_type": "code",
   "execution_count": 9,
   "metadata": {
    "scrolled": true
   },
   "outputs": [
    {
     "data": {
      "text/plain": [
       "defined \u001b[32mfunction\u001b[39m \u001b[36minitialValueOfRobotWeight\u001b[39m\n",
       "\u001b[32mimport \u001b[39m\u001b[36mhyperparameters.INDArrayWeight\n",
       "\u001b[39m\n",
       "\u001b[36mrobotWeight\u001b[39m: \u001b[32mObject\u001b[39m with \u001b[32mhyperparameters\u001b[39m.\u001b[32mINDArrayWeightApi\u001b[39m with \u001b[32mhyperparameters\u001b[39m.\u001b[32mWeightApi\u001b[39m with \u001b[32mhyperparameters\u001b[39m.\u001b[32mWeightApi\u001b[39m = $sess.cmd6Wrapper$Helper$Anonymous$macro$1$1$Anonymous$macro$92$1@6708cbd0"
      ]
     },
     "execution_count": 9,
     "metadata": {},
     "output_type": "execute_result"
    }
   ],
   "source": [
    "def initialValueOfRobotWeight: INDArray = {\n",
    "  import org.nd4j.linalg.factory.Nd4j\n",
    "  import org.nd4s.Implicits._\n",
    "  Nd4j.randn(3, 1)\n",
    "}\n",
    "\n",
    "import hyperparameters.INDArrayWeight\n",
    "val robotWeight = INDArrayWeight(initialValueOfRobotWeight)"
   ]
  },
  {
   "cell_type": "markdown",
   "metadata": {},
   "source": [
    "In the above code, `robotWeight` is a weight of n-dimensional array, say, [INDArrayWeight], initialized from random values. Therefore, the formula `robotWeight0 * x0 + robotWeight1 * x1 + robotWeight2 * x2` can be equivalent to a matrix multipication, written as a `dot` method call:\n",
    "\n",
    "[INDArrayWeight]: https://javadoc.io/page/com.thoughtworks.deeplearning/plugins-builtins_2.11/latest/com/thoughtworks/deeplearning/plugins/INDArrayWeights$INDArrayWeight.html"
   ]
  },
  {
   "cell_type": "code",
   "execution_count": 10,
   "metadata": {},
   "outputs": [
    {
     "data": {
      "text/plain": [
       "\u001b[32mimport \u001b[39m\u001b[36mhyperparameters.INDArrayLayer\n",
       "\u001b[39m\n",
       "defined \u001b[32mfunction\u001b[39m \u001b[36miqTestRobot\u001b[39m"
      ]
     },
     "execution_count": 10,
     "metadata": {},
     "output_type": "execute_result"
    }
   ],
   "source": [
    "import hyperparameters.INDArrayLayer\n",
    "def iqTestRobot(questions: INDArray): INDArrayLayer = {\n",
    "  questions dot robotWeight\n",
    "}"
   ]
  },
  {
   "cell_type": "markdown",
   "metadata": {},
   "source": [
    "Note that the `dot` method is a differentiable function provided by DeepLearning.scala.\n",
    "You can find other [n-dimensional array differentiable methods in Scaladoc](https://javadoc.io/page/com.thoughtworks.deeplearning/plugins-builtins_2.11/latest/com/thoughtworks/deeplearning/plugins/RawINDArrayLayers$ImplicitsApi$INDArrayLayerOps.html)\n",
    "\n",
    "Unlike the functions in nd4s, all those differentiable functions accepts either an `INDArray`, `INDArrayWeight` \n",
    "or [INDArrayLayer], and returns one [Layer] of neural network, which can be composed into another differentiable function call.\n",
    "\n",
    "[INDArrayLayer]: https://javadoc.io/page/com.thoughtworks.deeplearning/plugins-builtins_2.11/latest/com/thoughtworks/deeplearning/plugins/RawINDArrayLayers$INDArrayLayer.html\n",
    "\n",
    "[Layer]: https://javadoc.io/page/com.thoughtworks.deeplearning/plugins-builtins_2.11/latest/com/thoughtworks/deeplearning/plugins/Layers$Layer.html"
   ]
  },
  {
   "cell_type": "markdown",
   "metadata": {},
   "source": [
    "## Training the network"
   ]
  },
  {
   "cell_type": "markdown",
   "metadata": {},
   "source": [
    "### Loss function"
   ]
  },
  {
   "cell_type": "markdown",
   "metadata": {},
   "source": [
    "In DeepLearning.scala, when we train a neural network, our goal should always be minimizing the return value.\n",
    "\n",
    "For example, if `iqTestRobot(TrainingQuestions).train` get called repeatedly,\n",
    "the neural network would try to minimize `input dot robotWeight`.\n",
    "`robotWeight` would become smaller and smaller in order to make `input dot robotWeight` smaller,\n",
    "and `iqTestRobot(TrainingQuestions).predict` would return an `INDArray` of small numbers.\n",
    "\n",
    "What if you expect `iqTestRobot(TrainingQuestions).predict` to return `ExpectedAnswers`?\n",
    "\n",
    "You can create another neural network that evaluates how far between the result of `myNeuralNetwork` and your expectation. The new neural network is usually called **loss function**.\n",
    "\n",
    "In this article we will use square loss as the loss function:"
   ]
  },
  {
   "cell_type": "code",
   "execution_count": 11,
   "metadata": {
    "scrolled": true
   },
   "outputs": [
    {
     "data": {
      "text/plain": [
       "\u001b[32mimport \u001b[39m\u001b[36mhyperparameters.DoubleLayer\n",
       "\u001b[39m\n",
       "defined \u001b[32mfunction\u001b[39m \u001b[36msquareLoss\u001b[39m"
      ]
     },
     "execution_count": 11,
     "metadata": {},
     "output_type": "execute_result"
    }
   ],
   "source": [
    "import hyperparameters.DoubleLayer\n",
    "def squareLoss(questions: INDArray, expectAnswer: INDArray): DoubleLayer = {\n",
    "  val difference = iqTestRobot(questions) - expectAnswer\n",
    "  (difference * difference).mean\n",
    "}"
   ]
  },
  {
   "cell_type": "markdown",
   "metadata": {},
   "source": [
    "When the `lossFunction` get trained continuously, its return value will be close to zero, and the result of  `myNeuralNetwork` must be close to the expected result at the same time.\n",
    "\n",
    "Note the `lossFunction` accepts a `questions` and `expectAnswer` as its parameter.\n",
    "The first parameter is the input data used to train the neural network, and the second array is the expected output.\n",
    "\n",
    "The `squareLoss` function itself is a neural network, internally using the layer returned by `iqTestRobot` method."
   ]
  },
  {
   "cell_type": "markdown",
   "metadata": {},
   "source": [
    "### Run the training task"
   ]
  },
  {
   "cell_type": "markdown",
   "metadata": {},
   "source": [
    "As I mentioned before, there is a [train] method for `DoubleLayer`. It is a [Task] that performs one iteration of training.\n",
    "\n",
    "Since we want to repeatedly train the neural network of the robot, we need to create another `Task` that performs many iterations of training.\n",
    "\n",
    "In this article, we use [ThoughtWorks Each] to build such a `Task`:\n",
    "\n",
    "[train]: https://javadoc.io/page/com.thoughtworks.deeplearning/plugins-builtins_2.11/latest/com/thoughtworks/deeplearning/DeepLearning$$Ops.html#train(implicitmonoid:spire.algebra.MultiplicativeMonoid[Ops.this.typeClassInstance.Delta]):scalaz.concurrent.Task[Ops.this.typeClassInstance.Data]\n",
    "\n",
    "[Task]: https://javadoc.io/page/org.scalaz/scalaz-concurrent_2.11/latest/scalaz/concurrent/Task.html\n",
    "\n",
    "[ThoughtWorks Each]: https://github.com/ThoughtWorksInc/each"
   ]
  },
  {
   "cell_type": "code",
   "execution_count": 12,
   "metadata": {},
   "outputs": [
    {
     "data": {
      "text/plain": [
       "\u001b[32mimport \u001b[39m\u001b[36m$ivy.$                                  \n",
       "\u001b[39m\n",
       "\u001b[32mimport \u001b[39m\u001b[36m$plugin.$                                            \n",
       "\n",
       "\u001b[39m\n",
       "\u001b[32mimport \u001b[39m\u001b[36mcom.thoughtworks.each.Monadic._\n",
       "\u001b[39m\n",
       "\u001b[32mimport \u001b[39m\u001b[36mscalaz.concurrent.Task\n",
       "\u001b[39m\n",
       "\u001b[32mimport \u001b[39m\u001b[36mscalaz.std.stream._\u001b[39m"
      ]
     },
     "execution_count": 12,
     "metadata": {},
     "output_type": "execute_result"
    }
   ],
   "source": [
    "import $ivy.`com.thoughtworks.each::each:3.3.1`\n",
    "import $plugin.$ivy.`org.scalamacros:paradise_2.11.11:2.1.0`\n",
    "\n",
    "import com.thoughtworks.each.Monadic._\n",
    "import scalaz.concurrent.Task\n",
    "import scalaz.std.stream._"
   ]
  },
  {
   "cell_type": "code",
   "execution_count": 13,
   "metadata": {
    "scrolled": true
   },
   "outputs": [
    {
     "data": {
      "text/plain": [
       "\u001b[36mTotalIterations\u001b[39m: \u001b[32mInt\u001b[39m = \u001b[32m500\u001b[39m\n",
       "defined \u001b[32mfunction\u001b[39m \u001b[36mtrain\u001b[39m"
      ]
     },
     "execution_count": 13,
     "metadata": {},
     "output_type": "execute_result"
    }
   ],
   "source": [
    "val TotalIterations = 500\n",
    "\n",
    "@monadic[Task]\n",
    "def train: Task[Stream[Double]] = {\n",
    "  for (iteration <- (0 until TotalIterations).toStream) yield {\n",
    "    squareLoss(TrainingQuestions, ExpectedAnswers).train.each\n",
    "  }\n",
    "}"
   ]
  },
  {
   "cell_type": "markdown",
   "metadata": {},
   "source": [
    "Then we can run the task to train the robot."
   ]
  },
  {
   "cell_type": "code",
   "execution_count": 14,
   "metadata": {},
   "outputs": [
    {
     "data": {
      "text/plain": [
       "\u001b[36mlossByTime\u001b[39m: \u001b[32mStream\u001b[39m[\u001b[32mDouble\u001b[39m] = \u001b[33mStream\u001b[39m(\n",
       "  \u001b[32m16.301685333251953\u001b[39m,\n",
       "  \u001b[32m11.032896041870117\u001b[39m,\n",
       "  \u001b[32m8.420608520507812\u001b[39m,\n",
       "  \u001b[32m7.0754852294921875\u001b[39m,\n",
       "  \u001b[32m6.336458683013916\u001b[39m,\n",
       "  \u001b[32m5.888978481292725\u001b[39m,\n",
       "  \u001b[32m5.583276748657227\u001b[39m,\n",
       "  \u001b[32m5.348036766052246\u001b[39m,\n",
       "  \u001b[32m5.149197578430176\u001b[39m,\n",
       "  \u001b[32m4.970500469207764\u001b[39m,\n",
       "  \u001b[32m4.804080486297607\u001b[39m,\n",
       "\u001b[33m...\u001b[39m"
      ]
     },
     "execution_count": 14,
     "metadata": {},
     "output_type": "execute_result"
    }
   ],
   "source": [
    "val lossByTime: Stream[Double] = train.unsafePerformSync"
   ]
  },
  {
   "cell_type": "markdown",
   "metadata": {},
   "source": [
    "Then we create a plot to show how the loss changed during iterations."
   ]
  },
  {
   "cell_type": "code",
   "execution_count": 15,
   "metadata": {},
   "outputs": [
    {
     "data": {
      "text/html": [
       "\n",
       "      <script type=\"text/javascript\">\n",
       "        require.config({\n",
       "  paths: {\n",
       "    d3: 'https://cdnjs.cloudflare.com/ajax/libs/d3/3.5.17/d3.min',\n",
       "    plotly: 'https://cdn.plot.ly/plotly-1.12.0.min'\n",
       "  },\n",
       "\n",
       "  shim: {\n",
       "    plotly: {\n",
       "      deps: ['d3', 'jquery'],\n",
       "      exports: 'plotly'\n",
       "    }\n",
       "  }\n",
       "});\n",
       "        \n",
       "\n",
       "        require(['plotly'], function(Plotly) {\n",
       "          window.Plotly = Plotly;\n",
       "        });\n",
       "      </script>\n",
       "    "
      ]
     },
     "metadata": {},
     "output_type": "display_data"
    },
    {
     "data": {
      "text/plain": [
       "\u001b[32mimport \u001b[39m\u001b[36m$ivy.$                                             \n",
       "\n",
       "\u001b[39m\n",
       "\u001b[32mimport \u001b[39m\u001b[36mplotly._\n",
       "\u001b[39m\n",
       "\u001b[32mimport \u001b[39m\u001b[36mplotly.element._\n",
       "\u001b[39m\n",
       "\u001b[32mimport \u001b[39m\u001b[36mplotly.layout._\n",
       "\u001b[39m\n",
       "\u001b[32mimport \u001b[39m\u001b[36mplotly.JupyterScala._\n",
       "\n",
       "\u001b[39m"
      ]
     },
     "execution_count": 15,
     "metadata": {},
     "output_type": "execute_result"
    }
   ],
   "source": [
    "import $ivy.`org.plotly-scala::plotly-jupyter-scala:0.3.2`\n",
    "\n",
    "import plotly._\n",
    "import plotly.element._\n",
    "import plotly.layout._\n",
    "import plotly.JupyterScala._\n",
    "\n",
    "plotly.JupyterScala.init()"
   ]
  },
  {
   "cell_type": "code",
   "execution_count": 16,
   "metadata": {
    "scrolled": false
   },
   "outputs": [
    {
     "data": {
      "text/html": [
       "<div class=\"chart\" id=\"plot-860371581\"></div>"
      ]
     },
     "metadata": {},
     "output_type": "display_data"
    },
    {
     "data": {
      "application/javascript": [
       "requirejs([\"plotly\"], function(Plotly) {\n",
       "  (function () {\n",
       "  var data0 = {\"type\":\"scatter\",\"x\":[0.0,1.0,2.0,3.0,4.0,5.0,6.0,7.0,8.0,9.0,10.0,11.0,12.0,13.0,14.0,15.0,16.0,17.0,18.0,19.0,20.0,21.0,22.0,23.0,24.0,25.0,26.0,27.0,28.0,29.0,30.0,31.0,32.0,33.0,34.0,35.0,36.0,37.0,38.0,39.0,40.0,41.0,42.0,43.0,44.0,45.0,46.0,47.0,48.0,49.0,50.0,51.0,52.0,53.0,54.0,55.0,56.0,57.0,58.0,59.0,60.0,61.0,62.0,63.0,64.0,65.0,66.0,67.0,68.0,69.0,70.0,71.0,72.0,73.0,74.0,75.0,76.0,77.0,78.0,79.0,80.0,81.0,82.0,83.0,84.0,85.0,86.0,87.0,88.0,89.0,90.0,91.0,92.0,93.0,94.0,95.0,96.0,97.0,98.0,99.0,100.0,101.0,102.0,103.0,104.0,105.0,106.0,107.0,108.0,109.0,110.0,111.0,112.0,113.0,114.0,115.0,116.0,117.0,118.0,119.0,120.0,121.0,122.0,123.0,124.0,125.0,126.0,127.0,128.0,129.0,130.0,131.0,132.0,133.0,134.0,135.0,136.0,137.0,138.0,139.0,140.0,141.0,142.0,143.0,144.0,145.0,146.0,147.0,148.0,149.0,150.0,151.0,152.0,153.0,154.0,155.0,156.0,157.0,158.0,159.0,160.0,161.0,162.0,163.0,164.0,165.0,166.0,167.0,168.0,169.0,170.0,171.0,172.0,173.0,174.0,175.0,176.0,177.0,178.0,179.0,180.0,181.0,182.0,183.0,184.0,185.0,186.0,187.0,188.0,189.0,190.0,191.0,192.0,193.0,194.0,195.0,196.0,197.0,198.0,199.0,200.0,201.0,202.0,203.0,204.0,205.0,206.0,207.0,208.0,209.0,210.0,211.0,212.0,213.0,214.0,215.0,216.0,217.0,218.0,219.0,220.0,221.0,222.0,223.0,224.0,225.0,226.0,227.0,228.0,229.0,230.0,231.0,232.0,233.0,234.0,235.0,236.0,237.0,238.0,239.0,240.0,241.0,242.0,243.0,244.0,245.0,246.0,247.0,248.0,249.0,250.0,251.0,252.0,253.0,254.0,255.0,256.0,257.0,258.0,259.0,260.0,261.0,262.0,263.0,264.0,265.0,266.0,267.0,268.0,269.0,270.0,271.0,272.0,273.0,274.0,275.0,276.0,277.0,278.0,279.0,280.0,281.0,282.0,283.0,284.0,285.0,286.0,287.0,288.0,289.0,290.0,291.0,292.0,293.0,294.0,295.0,296.0,297.0,298.0,299.0,300.0,301.0,302.0,303.0,304.0,305.0,306.0,307.0,308.0,309.0,310.0,311.0,312.0,313.0,314.0,315.0,316.0,317.0,318.0,319.0,320.0,321.0,322.0,323.0,324.0,325.0,326.0,327.0,328.0,329.0,330.0,331.0,332.0,333.0,334.0,335.0,336.0,337.0,338.0,339.0,340.0,341.0,342.0,343.0,344.0,345.0,346.0,347.0,348.0,349.0,350.0,351.0,352.0,353.0,354.0,355.0,356.0,357.0,358.0,359.0,360.0,361.0,362.0,363.0,364.0,365.0,366.0,367.0,368.0,369.0,370.0,371.0,372.0,373.0,374.0,375.0,376.0,377.0,378.0,379.0,380.0,381.0,382.0,383.0,384.0,385.0,386.0,387.0,388.0,389.0,390.0,391.0,392.0,393.0,394.0,395.0,396.0,397.0,398.0,399.0,400.0,401.0,402.0,403.0,404.0,405.0,406.0,407.0,408.0,409.0,410.0,411.0,412.0,413.0,414.0,415.0,416.0,417.0,418.0,419.0,420.0,421.0,422.0,423.0,424.0,425.0,426.0,427.0,428.0,429.0,430.0,431.0,432.0,433.0,434.0,435.0,436.0,437.0,438.0,439.0,440.0,441.0,442.0,443.0,444.0,445.0,446.0,447.0,448.0,449.0,450.0,451.0,452.0,453.0,454.0,455.0,456.0,457.0,458.0,459.0,460.0,461.0,462.0,463.0,464.0,465.0,466.0,467.0,468.0,469.0,470.0,471.0,472.0,473.0,474.0,475.0,476.0,477.0,478.0,479.0,480.0,481.0,482.0,483.0,484.0,485.0,486.0,487.0,488.0,489.0,490.0,491.0,492.0,493.0,494.0,495.0,496.0,497.0,498.0,499.0],\"y\":[16.301685333251953,11.032896041870117,8.420608520507812,7.0754852294921875,6.336458683013916,5.888978481292725,5.583276748657227,5.348036766052246,5.149197578430176,4.970500469207764,4.804080486297607,4.646153450012207,4.494792461395264,4.349017143249512,4.208282947540283,4.0722551345825195,3.940697193145752,3.8134207725524902,3.6902732849121094,3.5711076259613037,3.455796241760254,3.344208240509033,3.2362256050109863,3.1317310333251953,3.0306034088134766,2.9327499866485596,2.838052749633789,2.7464139461517334,2.6577341556549072,2.571918249130249,2.4888715744018555,2.4085071086883545,2.330740451812744,2.2554779052734375,2.1826488971710205,2.1121749877929688,2.043973207473755,1.9779727458953857,1.9141042232513428,1.8522977828979492,1.792492389678955,1.7346136569976807,1.6786024570465088,1.624402642250061,1.5719478130340576,1.5211920738220215,1.472074031829834,1.4245426654815674,1.378542423248291,1.3340305089950562,1.2909563779830933,1.249272108078003,1.208932638168335,1.169897437095642,1.1321220397949219,1.0955655574798584,1.0601890087127686,1.0259571075439453,0.9928310513496399,0.9607734084129333,0.929747462272644,0.8997288942337036,0.8706767559051514,0.842561662197113,0.8153561353683472,0.7890291810035706,0.7635515928268433,0.7388951182365417,0.7150383591651917,0.6919494867324829,0.6696081757545471,0.6479858160018921,0.6270608901977539,0.6068160533905029,0.5872204303741455,0.5682594776153564,0.5499115586280823,0.5321559906005859,0.5149722695350647,0.4983431100845337,0.4822537302970886,0.4666803181171417,0.4516107141971588,0.4370291233062744,0.42291855812072754,0.40926113724708557,0.39604830741882324,0.38325873017311096,0.37088263034820557,0.3589075803756714,0.34731850028038025,0.3361039161682129,0.32525134086608887,0.31474801898002625,0.304586797952652,0.2947511374950409,0.28523361682891846,0.2760235667228699,0.2671114206314087,0.25848641991615295,0.25014036893844604,0.24206238985061646,0.2342461794614792,0.22668367624282837,0.21936319768428802,0.21228140592575073,0.20542648434638977,0.19879330694675446,0.19237342476844788,0.18616147339344025,0.18015143275260925,0.17433404922485352,0.1687045395374298,0.16325797140598297,0.15798598527908325,0.15288476645946503,0.14794796705245972,0.14317095279693604,0.13854768872261047,0.13407446444034576,0.1297454684972763,0.1255561113357544,0.12150108069181442,0.1175791397690773,0.11378148198127747,0.11010805517435074,0.10655224323272705,0.10311238467693329,0.09978260844945908,0.09656098484992981,0.09344245493412018,0.09042572230100632,0.08750539273023605,0.08467988669872284,0.0819455236196518,0.07930029928684235,0.07673939317464828,0.07426103949546814,0.07186347246170044,0.06954311579465866,0.06729752570390701,0.06512425094842911,0.06302208453416824,0.060987070202827454,0.059017498046159744,0.0571121983230114,0.05526786297559738,0.05348307639360428,0.05175662040710449,0.05008555203676224,0.048468172550201416,0.04690301790833473,0.045388225466012955,0.04392336308956146,0.04250490665435791,0.041132327169179916,0.039803825318813324,0.03851892426609993,0.03727487847208977,0.03607134893536568,0.034906357526779175,0.033779531717300415,0.03268873319029808,0.031633004546165466,0.03061208873987198,0.029623396694660187,0.028666894882917404,0.02774098329246044,0.02684546262025833,0.025978457182645798,0.02514001540839672,0.02432814985513687,0.023542696610093117,0.022782277315855026,0.02204691246151924,0.02133505418896675,0.020646099001169205,0.019979488104581833,0.01933416910469532,0.018710074946284294,0.018105756491422653,0.017520951107144356,0.016955174505710602,0.01640770398080349,0.01587790623307228,0.015365292318165302,0.014869251288473606,0.014388782903552055,0.01392441801726818,0.013474676758050919,0.01303982362151146,0.012618526816368103,0.012211048044264317,0.011816903948783875,0.011435385793447495,0.011066037230193615,0.010708685964345932,0.010363055393099785,0.010028321295976639,0.009704713709652424,0.00939116906374693,0.009087870828807354,0.00879458524286747,0.008510597050189972,0.008235947228968143,0.007969861850142479,0.007712481543421745,0.007463526912033558,0.007222572807222605,0.006989222019910812,0.006763461045920849,0.006545038893818855,0.006333848461508751,0.006129237823188305,0.005931395571678877,0.0057397764176130295,0.0055544632486999035,0.005375053733587265,0.005201530642807484,0.005033748224377632,0.004871193785220385,0.004713761620223522,0.004561740905046463,0.004414363764226437,0.004271706100553274,0.0041338857263326645,0.004000321961939335,0.0038712644018232822,0.003746255300939083,0.003625225042924285,0.0035081403329968452,0.003394915023818612,0.0032852671574801207,0.0031791082583367825,0.0030764334369450808,0.002977153053507209,0.0028810882940888405,0.002788013080134988,0.002697983058169484,0.002610865281894803,0.002526570111513138,0.002445025136694312,0.0023661023005843163,0.0022897077724337578,0.002215721644461155,0.002144147176295519,0.0020749277900904417,0.0020079179666936398,0.00194316147826612,0.0018804355058819056,0.0018197557656094432,0.0017608164343982935,0.0017040959792211652,0.001648962264880538,0.0015957371797412634,0.0015441975556313992,0.001494353637099266,0.001446059439331293,0.0013994269538670778,0.0013542145024985075,0.001310521736741066,0.0012682132655754685,0.0012272486928850412,0.00118760927580297,0.0011493046768009663,0.0011121883289888501,0.0010761861922219396,0.0010414631105959415,0.0010078533086925745,9.752693003974855E-4,9.438288398087025E-4,9.133589919656515E-4,8.838465437293053E-4,8.552975486963987E-4,8.27740237582475E-4,8.009657030925155E-4,7.750975782983005E-4,7.501434301957488E-4,7.259182166308165E-4,7.024355581961572E-4,6.797625683248043E-4,6.578049506060779E-4,6.364939035847783E-4,6.159769836813211E-4,5.961627466604114E-4,5.768608534708619E-4,5.582282901741564E-4,5.401996895670891E-4,5.22758811712265E-4,5.058646784164011E-4,4.895318998023868E-4,4.7377997543662786E-4,4.5845797285437584E-4,4.436917952261865E-4,4.29334060754627E-4,4.154370108153671E-4,4.020556516479701E-4,3.890531952492893E-4,3.765047003980726E-4,3.6437471862882376E-4,3.5256161936558783E-4,3.4120402415283024E-4,3.3014576183632016E-4,3.1951983692124486E-4,3.092091646976769E-4,2.991978544741869E-4,2.8956530150026083E-4,2.802196249831468E-4,2.711503766477108E-4,2.6238150894641876E-4,2.539314446039498E-4,2.4570850655436516E-4,2.378147910349071E-4,2.301652857568115E-4,2.2267902386374772E-4,2.1552015095949173E-4,2.0854503964073956E-4,2.018082741415128E-4,1.952919556060806E-4,1.8900133727584034E-4,1.8291913147550076E-4,1.7699107411317527E-4,1.7127716273535043E-4,1.6573158791288733E-4,1.6036951274145395E-4,1.5518871077802032E-4,1.5020047430880368E-4,1.4538384857587516E-4,1.4064006973057985E-4,1.36109723825939E-4,1.3172301987651736E-4,1.2747144501190633E-4,1.2336768850218505E-4,1.1937748058699071E-4,1.155290228780359E-4,1.1178918066434562E-4,1.0818200826179236E-4,1.0467611718922853E-4,1.0132999159395695E-4,9.803350258152932E-5,9.48738306760788E-5,9.180598135571927E-5,8.883902046363801E-5,8.597155101597309E-5,8.317336323671043E-5,8.051126496866345E-5,7.790084055159241E-5,7.539444777648896E-5,7.29620733181946E-5,7.058736809995025E-5,6.83105899952352E-5,6.612728611798957E-5,6.398602272383869E-5,6.190934800542891E-5,5.9920908825006336E-5,5.796874756924808E-5,5.6112265156116337E-5,5.4292042477754876E-5,5.252847040537745E-5,5.084276563138701E-5,4.9199887143913656E-5,4.7621364501537755E-5,4.6082532207947224E-5,4.4582302507478744E-5,4.31330845458433E-5,4.174075729679316E-5,4.040492058265954E-5,3.9113350794650614E-5,3.783557622227818E-5,3.6611359973903745E-5,3.542107151588425E-5,3.429732169024646E-5,3.317783557577059E-5,3.2123054552357644E-5,3.107984593953006E-5,3.0064389648032375E-5,2.9093340344843455E-5,2.815872721839696E-5,2.725722879404202E-5,2.63726687990129E-5,2.5504923542030156E-5,2.4700810172362253E-5,2.3904158297227696E-5,2.3136683012126014E-5,2.2377407731255516E-5,2.165995101677254E-5,2.0951150872861035E-5,2.0275358110666275E-5,1.962723399628885E-5,1.8997197912540287E-5,1.8379352695774287E-5,1.7780661437427625E-5,1.721225635265E-5,1.666019670665264E-5,1.6125899492180906E-5,1.559443262522109E-5,1.5098440599103924E-5,1.4605016076529864E-5,1.4126807400316466E-5,1.3675646187039092E-5,1.3239533473097254E-5,1.2804234756913502E-5,1.2395061276038177E-5,1.1992532563454006E-5,1.1603871826082468E-5,1.1227024515392259E-5,1.086788597604027E-5,1.0520850082684774E-5,1.0175290299230255E-5,9.851112736214418E-6,9.532959666103125E-6,9.220988431479782E-6,8.928500392357819E-6,8.632338904135395E-6,8.360582796740346E-6,8.084528417384718E-6,7.822477527952287E-6,7.574177288915962E-6,7.321628800127655E-6,7.091412953741383E-6,6.861134352220688E-6,6.643477718171198E-6,6.425392712117173E-6,6.218997441465035E-6,6.021181889082072E-6,5.823269930260722E-6,5.632343345496338E-6,5.460146894620266E-6,5.27650354342768E-6,5.110138772579376E-6,4.940404323861003E-6,4.780307790497318E-6,4.630615876521915E-6,4.480156349018216E-6,4.332575826992979E-6,4.197137059236411E-6,4.061480012751417E-6,3.9249935070984066E-6,3.800250851782039E-6,3.68111977877561E-6,3.5580305848270655E-6,3.4461490940884687E-6,3.3339038054691628E-6,3.2258403734886087E-6,3.1202462196233682E-6,3.0222299756132998E-6,2.9233437999209855E-6,2.831324309227057E-6,2.7386267902329564E-6,2.6502023047214607E-6,2.5658221147750737E-6,2.482998979758122E-6,2.4020264390856028E-6,2.3223967673402512E-6,2.246439180453308E-6,2.174770997953601E-6,2.1064315660623834E-6,2.041671450569993E-6,1.9735743990167975E-6,1.9090048226644285E-6,1.845791302912403E-6,1.7856984868558357E-6,1.7310271687165368E-6,1.6771220998634817E-6,1.6204294297494926E-6,1.56665646500187E-6,1.5160949260462075E-6,1.470050165153225E-6,1.4212357655196683E-6,1.376884483761387E-6,1.3317369393917033E-6,1.2871980743511813E-6,1.245505700353533E-6,1.2079071893822402E-6,1.1661336429824587E-6,1.1298964182060445E-6,1.0927308267127955E-6,1.0562530405877624E-6,1.0239239145448664E-6,9.904306352837011E-7,9.573725492373342E-7,9.284597126679728E-7,8.952184202826174E-7,8.700540661266132E-7,8.424476618529297E-7,8.139446094901359E-7,7.87369174304331E-7,7.627079412486637E-7,7.371645551756956E-7,7.132359769457253E-7,6.888396910653682E-7,6.669961294392124E-7,6.460896315729769E-7,6.25224174655159E-7,6.049072567293479E-7,5.862594321115466E-7,5.677229637512937E-7,5.496604558175022E-7,5.296333256410435E-7,5.13297038651217E-7]};\n",
       "\n",
       "  var data = [data0];\n",
       "  var layout = {\"title\":\"loss by time\"};\n",
       "\n",
       "  Plotly.plot('plot-860371581', data, layout);\n",
       "})();\n",
       "});\n",
       "      "
      ]
     },
     "metadata": {},
     "output_type": "display_data"
    },
    {
     "data": {
      "text/plain": [
       "\u001b[36mres15\u001b[39m: \u001b[32mString\u001b[39m = \u001b[32m\"plot-860371581\"\u001b[39m"
      ]
     },
     "execution_count": 16,
     "metadata": {},
     "output_type": "execute_result"
    }
   ],
   "source": [
    "Scatter(lossByTime.indices, lossByTime).plot(title = \"loss by time\")"
   ]
  },
  {
   "cell_type": "markdown",
   "metadata": {},
   "source": [
    "After these iterations, the loss should be close to zero."
   ]
  },
  {
   "cell_type": "markdown",
   "metadata": {},
   "source": [
    "## Test the trained robot"
   ]
  },
  {
   "cell_type": "code",
   "execution_count": 17,
   "metadata": {},
   "outputs": [
    {
     "data": {
      "text/plain": [
       "\u001b[36mTestQuestions\u001b[39m: \u001b[32mINDArray\u001b[39m = [3.00, 6.00, 9.00]"
      ]
     },
     "execution_count": 17,
     "metadata": {},
     "output_type": "execute_result"
    }
   ],
   "source": [
    "val TestQuestions: INDArray = {\n",
    "  import org.nd4s.Implicits._\n",
    "  Array(Array(3, 6, 9)).toNDArray\n",
    "}"
   ]
  },
  {
   "cell_type": "code",
   "execution_count": 18,
   "metadata": {
    "scrolled": true
   },
   "outputs": [
    {
     "data": {
      "text/plain": [
       "\u001b[36mres17\u001b[39m: \u001b[32mINDArray\u001b[39m = 12.00"
      ]
     },
     "execution_count": 18,
     "metadata": {},
     "output_type": "execute_result"
    }
   ],
   "source": [
    "iqTestRobot(TestQuestions).predict.unsafePerformSync"
   ]
  },
  {
   "cell_type": "markdown",
   "metadata": {},
   "source": [
    "The result should be close to `12`."
   ]
  },
  {
   "cell_type": "markdown",
   "metadata": {},
   "source": [
    "You may also see the value of weights in the trained neural network:"
   ]
  },
  {
   "cell_type": "code",
   "execution_count": 19,
   "metadata": {},
   "outputs": [
    {
     "data": {
      "text/plain": [
       "\u001b[36mweightData\u001b[39m: \u001b[32mINDArray\u001b[39m = [-0.77, 0.53, 1.23]"
      ]
     },
     "execution_count": 19,
     "metadata": {},
     "output_type": "execute_result"
    }
   ],
   "source": [
    "val weightData: INDArray = robotWeight.data"
   ]
  },
  {
   "cell_type": "markdown",
   "metadata": {},
   "source": [
    "## Conclusion"
   ]
  },
  {
   "cell_type": "markdown",
   "metadata": {},
   "source": [
    "In this article, we have created a IQ test robot with the help of DeepLearning.scala.\n",
    "\n",
    "The model of robot is linear regression with a square loss, which consists of some `INDArryWeight`s and `INDArrayLayer`s.\n",
    "\n",
    "After many iterations of `train`ing, the robot finally learnt the pattern of arithmetic progression."
   ]
  }
 ],
 "metadata": {
  "kernelspec": {
   "display_name": "Scala",
   "language": "scala",
   "name": "scala"
  },
  "language_info": {
   "codemirror_mode": "text/x-scala",
   "file_extension": ".scala",
   "mimetype": "text/x-scala",
   "name": "scala211",
   "nbconvert_exporter": "script",
   "pygments_lexer": "scala",
   "version": "2.11.11"
  }
 },
 "nbformat": 4,
 "nbformat_minor": 2
}
